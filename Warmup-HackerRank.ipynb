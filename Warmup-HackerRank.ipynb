{
 "cells": [
  {
   "cell_type": "code",
   "execution_count": 1,
   "id": "dd133ba9",
   "metadata": {},
   "outputs": [],
   "source": [
    "def solveMeFirst(a,b):\n",
    "\t# Hint: Type return a+b below\n",
    "    return a+b"
   ]
  },
  {
   "cell_type": "code",
   "execution_count": 2,
   "id": "310053e0",
   "metadata": {},
   "outputs": [],
   "source": [
    "def simpleArraySum(ar):\n",
    "    # Write your code here\n",
    "    sum = 0\n",
    "    for i in range(ar_count):\n",
    "        sum = ar[i] + sum\n",
    "    return sum"
   ]
  },
  {
   "cell_type": "code",
   "execution_count": 3,
   "id": "cc8e8b03",
   "metadata": {},
   "outputs": [],
   "source": [
    "def compareTriplets(a, b):\n",
    "    # Write your code here\n",
    "    Ascore = 0\n",
    "    Bscore = 0\n",
    "    for i in range(3):\n",
    "        if a[i] > b[i]:\n",
    "            Ascore +=1\n",
    "        elif a[i] < b[i]:\n",
    "            Bscore +=1\n",
    "    return [Ascore, Bscore]"
   ]
  },
  {
   "cell_type": "code",
   "execution_count": null,
   "id": "ad0273d4",
   "metadata": {},
   "outputs": [],
   "source": [
    "def aVeryBigSum(ar):\n",
    "    # Write your code here\n",
    "    sum = 0\n",
    "    for i in range(ar_count):\n",
    "        sum = ar[i] + sum # No cambia con respecto al primero porque python no tiene limite en sus variables(el limite lo da la memoria de la maquina)\n",
    "    return sum"
   ]
  },
  {
   "cell_type": "code",
   "execution_count": 4,
   "id": "813febad",
   "metadata": {},
   "outputs": [],
   "source": [
    "def diagonalDifference(arr):\n",
    "    # Write your code here\n",
    "    lrd = 0\n",
    "    rld = 0\n",
    "    for i in range(n):\n",
    "        lrd += arr[i][i]\n",
    "        rld += arr[n-1-i][i]\n",
    "    return abs(lrd-rld)"
   ]
  },
  {
   "cell_type": "code",
   "execution_count": 5,
   "id": "a80c286b",
   "metadata": {},
   "outputs": [],
   "source": [
    "def plusMinus(arr):\n",
    "    # Write your code here\n",
    "    p, neg, z = 0, 0, 0\n",
    "    for i in range(n):\n",
    "        if arr[i] > 0:\n",
    "            p += 1\n",
    "        elif arr[i] < 0:\n",
    "            neg += 1\n",
    "        else:\n",
    "            z +=1\n",
    "    pp, pn, pz = p/n,neg/n,z/n\n",
    "    return print(pp,pn,pz,sep='\\n')"
   ]
  },
  {
   "cell_type": "code",
   "execution_count": 6,
   "id": "1820917b",
   "metadata": {},
   "outputs": [],
   "source": [
    "def staircase(n):\n",
    "    # Write your code here\n",
    "    for i in range(n):\n",
    "        print(((n-1)-i)*' ',(i+1)*'#',sep = '')"
   ]
  },
  {
   "cell_type": "code",
   "execution_count": 7,
   "id": "a320626b",
   "metadata": {},
   "outputs": [],
   "source": [
    "def miniMaxSum(arr):\n",
    "    # Write your code here\n",
    "    sm = sum(arr)\n",
    "    values = []\n",
    "    for i in range(5):\n",
    "        values.append(sm-arr[i])\n",
    "    low = min(values)\n",
    "    up = max(values)\n",
    "    print(low, up)"
   ]
  },
  {
   "cell_type": "code",
   "execution_count": 8,
   "id": "8eea615e",
   "metadata": {},
   "outputs": [],
   "source": [
    "def birthdayCakeCandles(candles):\n",
    "    # Write your code here\n",
    "    counter = 0\n",
    "    mx = max(candles)\n",
    "    for i in range(candles_count):\n",
    "    \n",
    "        if candles[i] == mx:\n",
    "            counter += 1\n",
    "    return counter"
   ]
  },
  {
   "cell_type": "code",
   "execution_count": 9,
   "id": "a7bf7529",
   "metadata": {},
   "outputs": [],
   "source": [
    "def timeConversion(s):\n",
    "    # Write your code here\n",
    "    mili = ''\n",
    "    deco = [*s]\n",
    "    if deco[8] == 'P':\n",
    "        x = ''.join((deco[0],deco[1]))\n",
    "        mili = ''.join((str(int(x)+12),deco[2],deco[3],deco[4],deco[5],deco[6],deco[7]))\n",
    "    if deco[8] == 'A':\n",
    "        mili = ''.join((deco[0],deco[1],deco[2],deco[3],deco[4],deco[5],deco[6],deco[7]))\n",
    "    if deco[0] == '1' and deco[1] == '2' and deco[8] == 'A':\n",
    "        mili = ''.join(('00',deco[2],deco[3],deco[4],deco[5],deco[6],deco[7]))\n",
    "    if deco[0] == '1' and deco[1] == '2' and deco[8] == 'P':\n",
    "        mili = ''.join(('12',deco[2],deco[3],deco[4],deco[5],deco[6],deco[7]))\n",
    "    if s == '12:00:00AM':\n",
    "        mili = '00:00:00'\n",
    "    if s == '12:00:00PM':\n",
    "        mili = '12:00:00'\n",
    "    return mili"
   ]
  },
  {
   "cell_type": "code",
   "execution_count": null,
   "id": "6f62d073",
   "metadata": {},
   "outputs": [],
   "source": []
  }
 ],
 "metadata": {
  "kernelspec": {
   "display_name": "Python 3 (ipykernel)",
   "language": "python",
   "name": "python3"
  },
  "language_info": {
   "codemirror_mode": {
    "name": "ipython",
    "version": 3
   },
   "file_extension": ".py",
   "mimetype": "text/x-python",
   "name": "python",
   "nbconvert_exporter": "python",
   "pygments_lexer": "ipython3",
   "version": "3.9.16"
  }
 },
 "nbformat": 4,
 "nbformat_minor": 5
}
